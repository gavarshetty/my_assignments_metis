{
 "cells": [
  {
   "cell_type": "markdown",
   "metadata": {},
   "source": [
    "# Beginner Python and Math for Data Science\n",
    "\n",
    "## Lecture 1 - Homework \n",
    "\n",
    "### Python Variables, Assignments, Comparisons and Other Basics"
   ]
  },
  {
   "cell_type": "markdown",
   "metadata": {},
   "source": [
    "#### 1. Write a Python program to convert degree to radian.\n",
    "\n",
    "Note : The radian is the standard unit of angular measure, used in many areas of mathematics. An angle's measurement in radians is numerically equal to the length of a corresponding arc of a unit circle; one radian is just under 57.3 degrees (when the arc length is equal to the radius).\n",
    "\n",
    "Test your solution by using `180 degrees`."
   ]
  },
  {
   "cell_type": "code",
   "execution_count": 2,
   "metadata": {},
   "outputs": [
    {
     "name": "stdout",
     "output_type": "stream",
     "text": [
      "Enter the degrees57.3\n",
      "57.3 degrees is 0.9995666666666667 radians\n"
     ]
    }
   ],
   "source": [
    "deg=float(input(\"Enter the degrees\"))\n",
    "pi=3.14\n",
    "rad=deg*(pi/180)\n",
    "print(deg,\"degrees is\",rad,\"radians\")"
   ]
  },
  {
   "cell_type": "markdown",
   "metadata": {},
   "source": [
    "#### 2. Write a Python program to calculate surface volume and area of a sphere. \n",
    "\n",
    "Note: A sphere is a perfectly round geometrical object in three-dimensional space that is the surface of a completely round ball.\n",
    "\n",
    "Test your solution by using a sphere with `radius = 18`"
   ]
  },
  {
   "cell_type": "code",
   "execution_count": 3,
   "metadata": {},
   "outputs": [
    {
     "name": "stdout",
     "output_type": "stream",
     "text": [
      "Enter the radius18\n",
      "volume: 24416.64\n",
      "area: 4069.44\n"
     ]
    }
   ],
   "source": [
    "radius=float(input(\"Enter the radius\"))\n",
    "vol=(4/3)*pi*(radius**3)\n",
    "area=4*pi*(radius**2)\n",
    "print(\"volume: \"+str(vol),\"area: \"+str(area),sep='\\n')"
   ]
  },
  {
   "cell_type": "markdown",
   "metadata": {},
   "source": [
    "#### 3. Write a Python program to solve $(x + y)(x + y)$. \n",
    "\n",
    "Test your solution if `x = 5` and `y = 1`"
   ]
  },
  {
   "cell_type": "code",
   "execution_count": 4,
   "metadata": {},
   "outputs": [
    {
     "name": "stdout",
     "output_type": "stream",
     "text": [
      "36\n"
     ]
    }
   ],
   "source": [
    "x,y=5,1\n",
    "print((x+y)*(x+y))"
   ]
  },
  {
   "cell_type": "markdown",
   "metadata": {},
   "source": [
    "\n",
    "#### 4. Write a Python program to create all possible 2-letter strings by using 'a', 'e', 'i', 'o', 'u'. "
   ]
  },
  {
   "cell_type": "code",
   "execution_count": 13,
   "metadata": {},
   "outputs": [
    {
     "name": "stdout",
     "output_type": "stream",
     "text": [
      "String 1: aa\n",
      "String 2: ae\n",
      "String 3: ai\n",
      "String 4: ao\n",
      "String 5: au\n",
      "String 6: ea\n",
      "String 7: ee\n",
      "String 8: ei\n",
      "String 9: eo\n",
      "String 10: eu\n",
      "String 11: ia\n",
      "String 12: ie\n",
      "String 13: ii\n",
      "String 14: io\n",
      "String 15: iu\n",
      "String 16: oa\n",
      "String 17: oe\n",
      "String 18: oi\n",
      "String 19: oo\n",
      "String 20: ou\n",
      "String 21: ua\n",
      "String 22: ue\n",
      "String 23: ui\n",
      "String 24: uo\n",
      "String 25: uu\n"
     ]
    }
   ],
   "source": [
    "letters='aeiou'\n",
    "count=1\n",
    "for i in letters:\n",
    "    for j in letters:\n",
    "        print(\"String \"+str(count)+\":\",i+j)\n",
    "        count+=1\n"
   ]
  },
  {
   "cell_type": "markdown",
   "metadata": {},
   "source": [
    "#### 5. Write a Python program to test whether a number is within 100 of 1000 or 2000.\n",
    "\n",
    "Test your solution with the number `2200`, `900`, and `800`"
   ]
  },
  {
   "cell_type": "code",
   "execution_count": 8,
   "metadata": {},
   "outputs": [
    {
     "name": "stdout",
     "output_type": "stream",
     "text": [
      "Enter the number800\n",
      "False\n"
     ]
    }
   ],
   "source": [
    "test_num=int(input(\"Enter the number\"))\n",
    "test_result=(abs(1000-test_num)<=100 or abs(2000-test_num)<=100)\n",
    "print(test_result)"
   ]
  },
  {
   "cell_type": "code",
   "execution_count": null,
   "metadata": {},
   "outputs": [],
   "source": []
  }
 ],
 "metadata": {
  "kernelspec": {
   "display_name": "Python 3",
   "language": "python",
   "name": "python3"
  },
  "language_info": {
   "codemirror_mode": {
    "name": "ipython",
    "version": 3
   },
   "file_extension": ".py",
   "mimetype": "text/x-python",
   "name": "python",
   "nbconvert_exporter": "python",
   "pygments_lexer": "ipython3",
   "version": "3.7.3"
  },
  "toc": {
   "base_numbering": 1,
   "nav_menu": {},
   "number_sections": true,
   "sideBar": true,
   "skip_h1_title": false,
   "title_cell": "Table of Contents",
   "title_sidebar": "Contents",
   "toc_cell": false,
   "toc_position": {},
   "toc_section_display": true,
   "toc_window_display": false
  }
 },
 "nbformat": 4,
 "nbformat_minor": 2
}
